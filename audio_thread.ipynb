from pydub import AudioSegment
import pydub
import threading
from threading import Thread
from threading import Event
import time

class Song(Thread):
    def __init__(self, filename):
        """initializes the thread"""
        Thread.__init__(self)
        self.soundfilename = filename
        self._stopper = Event()
        self.setName('SoundThread')

    def run(self):
        """plays a given audio file"""
        song = AudioSegment.from_mp3(self.soundfilename)
        pydub.playback._play_with_simpleaudio(song)

    def stop(self):
        self._stopper.set()

if __name__ == '__main__':
    
    file = open("f.txt")
    while 1:
        where = file.tell()
        line = file.readline()
        if not line:
            time.sleep(1)
            file.seek(where)
        else:
            print(line) # already has newline
            #play_audio()
            s1 = 'Ghungroo_1.mp3'
            music1 = Song(s1)
            music1.run()
