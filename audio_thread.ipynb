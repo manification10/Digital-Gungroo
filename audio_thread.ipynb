from pydub import AudioSegment
import pydub
from pydub import playback
import threading
from threading import Thread
from threading import Event
import time
import serial

class Song(Thread):
    def __init__(self, filename):
        """initializes the thread"""
        Thread.__init__(self)
        self.soundfilename = filename
        self._stopper = Event()
        self.setName('SoundThread')

    def run(self):
        """plays a given audio file"""
        song = AudioSegment.from_mp3(self.soundfilename)
        playback._play_with_simpleaudio(song)

    def stop(self):
        self._stopper.set()

if __name__ == '__main__':

    #ser = serial.Serial('/dev/cu.SLAB_USBtoUART', 9600)
    ser = serial.Serial('/dev/cu.HC-05-SPPDev', 9600)
    while 1:
        line = str(ser.readline())
        if not line:
            time.sleep(1)
        else:
            print(line) 
            if "1" in line:
                s = 'Ghungroo_1.mp3'
                music = Song(s)
                music.run()
            if "2" in line:
                s = 'Ghungroo_2.mp3'
                music = Song(s)
                music.run()
            if "3" in line:
                s = 'Ghungroo_3.mp3'
                music = Song(s)
                music.run()
            else:
                time.sleep(0)
