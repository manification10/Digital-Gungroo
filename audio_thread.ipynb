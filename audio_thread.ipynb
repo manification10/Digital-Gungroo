from pydub import AudioSegment
from pydub import playback
import threading
from threading import Thread
from threading import Event
import time
import serial

class Song(Thread):
    def __init__(self, filename):
        """initializes the thread"""
        Thread.__init__(self)
        self.soundfilename = filename
        self._stopper = Event()
        self.setName('SoundThread')

    def run(self):
        """plays a given audio file"""
        song = AudioSegment.from_mp3(self.soundfilename)
        playback._play_with_simpleaudio(song)

    def stop(self):
        self._stopper.set()

if __name__ == '__main__':
    ser = serial.Serial('COM4', 9600)
    while 1:
        line = ser.readline()
        if not line:
            time.sleep(1)
        else:
            print(line) # already has newline
            s = 'Ghungroo_1.mp3'
            if line == 2:
                s = 'Ghungroo_2.mp3'
            if line == 3:
                s = 'Ghungroo_3.mp3'
            
            music = Song(s)
            music.run()

